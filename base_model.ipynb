{
  "nbformat": 4,
  "nbformat_minor": 0,
  "metadata": {
    "colab": {
      "name": "base model ",
      "provenance": [],
      "include_colab_link": true
    },
    "kernelspec": {
      "name": "python3",
      "display_name": "Python 3"
    },
    "accelerator": "GPU"
  },
  "cells": [
    {
      "cell_type": "markdown",
      "metadata": {
        "id": "view-in-github",
        "colab_type": "text"
      },
      "source": [
        "<a href=\"https://colab.research.google.com/github/xiayunj/2020_capstone_Unilever/blob/main/base_model.ipynb\" target=\"_parent\"><img src=\"https://colab.research.google.com/assets/colab-badge.svg\" alt=\"Open In Colab\"/></a>"
      ]
    },
    {
      "cell_type": "code",
      "metadata": {
        "id": "FXXKBhRLM9Ss"
      },
      "source": [
        "import cv2\n",
        "import math\n",
        "import matplotlib.pyplot as plt\n",
        "%matplotlib inline\n",
        "import glob\n",
        "import os\n",
        "import shutil\n",
        "import random\n",
        "import pandas as pd\n",
        "import tensorflow as tf\n",
        "from tensorflow.keras import datasets, layers, models\n",
        "import numpy as np"
      ],
      "execution_count": 1,
      "outputs": []
    },
    {
      "cell_type": "code",
      "metadata": {
        "id": "pd8bXs_AfWjh",
        "outputId": "ee0bfe42-d2af-4453-8e09-b0ee29efb08e",
        "colab": {
          "base_uri": "https://localhost:8080/"
        }
      },
      "source": [
        "# connect to your google drive\n",
        "from google.colab import drive\n",
        "drive.mount('/content/drive')"
      ],
      "execution_count": 2,
      "outputs": [
        {
          "output_type": "stream",
          "text": [
            "Mounted at /content/drive\n"
          ],
          "name": "stdout"
        }
      ]
    },
    {
      "cell_type": "code",
      "metadata": {
        "id": "wvxfQGdKurze"
      },
      "source": [
        "AUTOTUNE = tf.data.experimental.AUTOTUNE\n",
        "BATCH_SIZE = 24\n",
        "SHUFFLE_SIZE = 100"
      ],
      "execution_count": 3,
      "outputs": []
    },
    {
      "cell_type": "code",
      "metadata": {
        "id": "AsnrwBvgfr_K"
      },
      "source": [
        "#Create image tf dataset from directory \n",
        "AUTOTUNE = tf.data.experimental.AUTOTUNE\n",
        "\n",
        "def load_and_preprocess_image(path):\n",
        "  image = tf.io.read_file(path)\n",
        "  image = tf.image.decode_jpeg(image, channels=3)\n",
        "  image = tf.image.resize(image, [512, 512])\n",
        "  return image\n",
        "\n",
        "\n",
        "all_image_paths = sorted(glob.glob(\"/content/drive/My Drive/Unilever/image_test/*.jpg\"))\n",
        "#path_ds = tf.data.Dataset.from_tensor_slices(all_image_paths)\n",
        "#image_ds = path_ds.map(load_and_preprocess_image, num_parallel_calls=AUTOTUNE)\n",
        "#DATASET_SIZE = len(image_ds)"
      ],
      "execution_count": 4,
      "outputs": []
    },
    {
      "cell_type": "code",
      "metadata": {
        "id": "kDZJQRH7f5_N"
      },
      "source": [
        "# read the excel file\n",
        "MHPgrades = pd.read_excel(\"/content/drive/My Drive/Unilever/MHPgrades.xlsx\")\n",
        "grade = MHPgrades[\"Mottled hyperpigmentation\"]\n",
        "\n",
        "all_image_labels = list(grade)\n",
        "#label_names = list(sorted(grade.unique()))\n",
        "#label_ds = tf.data.Dataset.from_tensor_slices(tf.cast(all_image_labels, tf.float32))"
      ],
      "execution_count": 5,
      "outputs": []
    },
    {
      "cell_type": "code",
      "metadata": {
        "id": "rKLVBym0_AUs"
      },
      "source": [
        "all_label = []\n",
        "for grade in all_image_labels:\n",
        "  if grade < 2.0:\n",
        "    label = 1.5\n",
        "  elif grade > 4.0:\n",
        "    label = 4.5\n",
        "  else:\n",
        "    label = grade\n",
        "  all_label.append(label)"
      ],
      "execution_count": 6,
      "outputs": []
    },
    {
      "cell_type": "code",
      "metadata": {
        "id": "y8kEPytyc_lq",
        "outputId": "39d78442-f367-4dfb-92bd-1dbcc8c6a24a",
        "colab": {
          "base_uri": "https://localhost:8080/"
        }
      },
      "source": [
        "label_to_index = dict((name, index) for index, name in enumerate(sorted(set(all_label))))\n",
        "label_to_index"
      ],
      "execution_count": 7,
      "outputs": [
        {
          "output_type": "execute_result",
          "data": {
            "text/plain": [
              "{1.5: 0, 2.0: 1, 2.5: 2, 3.0: 3, 3.5: 4, 4.0: 5, 4.5: 6}"
            ]
          },
          "metadata": {
            "tags": []
          },
          "execution_count": 7
        }
      ]
    },
    {
      "cell_type": "code",
      "metadata": {
        "id": "uKXg7vvAl61a",
        "outputId": "e54f6edd-6791-4afc-d31e-45cbe2298f91",
        "colab": {
          "base_uri": "https://localhost:8080/"
        }
      },
      "source": [
        "all_labels = [label_to_index[grade]\n",
        "                    for grade in all_label]\n",
        "\n",
        "print(\"First 10 labels indices: \", all_labels[:10])"
      ],
      "execution_count": 8,
      "outputs": [
        {
          "output_type": "stream",
          "text": [
            "First 10 labels indices:  [2, 2, 1, 0, 0, 2, 1, 1, 0, 0]\n"
          ],
          "name": "stdout"
        }
      ]
    },
    {
      "cell_type": "code",
      "metadata": {
        "id": "gnMzZTBPmZOw"
      },
      "source": [
        "from sklearn.model_selection import train_test_split\n",
        "train_paths, test_paths, train_labels, test_labels = train_test_split(all_image_paths, all_labels) "
      ],
      "execution_count": 9,
      "outputs": []
    },
    {
      "cell_type": "code",
      "metadata": {
        "id": "kRXIRZZHniR3"
      },
      "source": [
        "path_ds = tf.data.Dataset.from_tensor_slices(train_paths)\n",
        "image_ds = path_ds.map(load_and_preprocess_image, num_parallel_calls=AUTOTUNE)\n",
        "DATASET_SIZE = len(image_ds)\n",
        "label_ds = tf.data.Dataset.from_tensor_slices(tf.cast(train_labels, tf.float32))"
      ],
      "execution_count": 10,
      "outputs": []
    },
    {
      "cell_type": "code",
      "metadata": {
        "id": "cIvucXfs4Ifa",
        "outputId": "c53ac473-1ae5-47fe-ad4a-d42213c065d3",
        "colab": {
          "base_uri": "https://localhost:8080/"
        }
      },
      "source": [
        "for label in label_ds.take(10):\n",
        "  print(label)"
      ],
      "execution_count": 11,
      "outputs": [
        {
          "output_type": "stream",
          "text": [
            "tf.Tensor(2.0, shape=(), dtype=float32)\n",
            "tf.Tensor(2.0, shape=(), dtype=float32)\n",
            "tf.Tensor(1.0, shape=(), dtype=float32)\n",
            "tf.Tensor(0.0, shape=(), dtype=float32)\n",
            "tf.Tensor(6.0, shape=(), dtype=float32)\n",
            "tf.Tensor(6.0, shape=(), dtype=float32)\n",
            "tf.Tensor(0.0, shape=(), dtype=float32)\n",
            "tf.Tensor(6.0, shape=(), dtype=float32)\n",
            "tf.Tensor(6.0, shape=(), dtype=float32)\n",
            "tf.Tensor(4.0, shape=(), dtype=float32)\n"
          ],
          "name": "stdout"
        }
      ]
    },
    {
      "cell_type": "code",
      "metadata": {
        "id": "NFLoRIV5n3or",
        "outputId": "0d2c00ce-e871-4537-e5a4-0060366da808",
        "colab": {
          "base_uri": "https://localhost:8080/"
        }
      },
      "source": [
        "# a dataset that returns images and labels\n",
        "image_label_ds = tf.data.Dataset.zip((image_ds, label_ds))\n",
        "print(image_label_ds)"
      ],
      "execution_count": 12,
      "outputs": [
        {
          "output_type": "stream",
          "text": [
            "<ZipDataset shapes: ((512, 512, 3), ()), types: (tf.float32, tf.float32)>\n"
          ],
          "name": "stdout"
        }
      ]
    },
    {
      "cell_type": "code",
      "metadata": {
        "id": "i5bbyBDwi0OC"
      },
      "source": [
        "#image_label_ds = tf.data.Dataset.zip((image_ds, label_ds))"
      ],
      "execution_count": 13,
      "outputs": []
    },
    {
      "cell_type": "code",
      "metadata": {
        "id": "ut0SqBYbcHll",
        "outputId": "2eaed8f1-6ea4-4006-ec16-326e27fd2245",
        "colab": {
          "base_uri": "https://localhost:8080/"
        }
      },
      "source": [
        "for img, label in image_label_ds.take(2):\n",
        "  print(img.shape, label.numpy())"
      ],
      "execution_count": 15,
      "outputs": [
        {
          "output_type": "stream",
          "text": [
            "(512, 512, 3) 0.0\n",
            "(512, 512, 3) 6.0\n"
          ],
          "name": "stdout"
        }
      ]
    },
    {
      "cell_type": "markdown",
      "metadata": {
        "id": "mS5fLR0Ql9Iv"
      },
      "source": [
        "using generator"
      ]
    },
    {
      "cell_type": "code",
      "metadata": {
        "id": "is0-tPRlTS6u"
      },
      "source": [
        "IMG_SIZE = 512\n",
        "resize_and_rescale = tf.keras.Sequential([\n",
        "  #layers.experimental.preprocessing.Resizing(299, 299),\n",
        "  layers.experimental.preprocessing.Rescaling(scale=1./127.5, offset=-1)\n",
        "])\n",
        "data_augmentation = tf.keras.Sequential([                                      \n",
        "   layers.experimental.preprocessing.RandomFlip(\"horizontal_and_vertical\")\n",
        "#   layers.experimental.preprocessing.RandomRotation(0.2),\n",
        "#   layers.experimental.preprocessing.RandomContrast(0.2),\n",
        "#   layers.experimental.preprocessing.RandomWidth(0.2),\n",
        "#   layers.experimental.preprocessing.RandomHeight(0.2)\n",
        "\n",
        " ])"
      ],
      "execution_count": 25,
      "outputs": []
    },
    {
      "cell_type": "code",
      "metadata": {
        "id": "Q1HadDQ2uXvg"
      },
      "source": [
        "# here's our final training dataset\n",
        "train_ds = image_label_ds.cache()\n",
        "train_ds = train_ds.shuffle(SHUFFLE_SIZE)\n",
        "\n",
        "#train_ds = train_ds.repeat()\n",
        "#train_ds = train_ds.map(lambda x, y: (resize_and_rescale(x, training=True), y))\n",
        "#train_ds = train_ds.map(lambda image, Label: (tf.image.random_flip_left_right(image),Label),num_parallel_calls=AUTOTUNE)\n",
        "#train_ds = train_ds.map(lambda image, Label: (tf.image.random_saturation(image,5,10),label),num_parallel_calls=AUTOTUNE)\n",
        "#train_ds = train_ds.map(lambda image, Label: (tf.image.random_contrast(image,5,10),label),num_parallel_calls=AUTOTUNE)\n",
        "\n",
        "\n",
        "train_ds = train_ds.batch(BATCH_SIZE).prefetch(buffer_size=AUTOTUNE)\n",
        "\n",
        "# let's make a test dataset as well\n",
        "path_ds = tf.data.Dataset.from_tensor_slices(test_paths)\n",
        "image_ds = path_ds.map(load_and_preprocess_image, num_parallel_calls=AUTOTUNE)\n",
        "label_ds = tf.data.Dataset.from_tensor_slices(tf.cast(test_labels, tf.float32))\n",
        "image_label_ds_test = tf.data.Dataset.zip((image_ds, label_ds))\n",
        "test_ds = image_label_ds_test.cache().batch(BATCH_SIZE)"
      ],
      "execution_count": 13,
      "outputs": []
    },
    {
      "cell_type": "code",
      "metadata": {
        "id": "RU4vPUMsF5zB",
        "outputId": "2d268e89-89ff-4a6a-8f1c-4ac93b82cc1e",
        "colab": {
          "base_uri": "https://localhost:8080/"
        }
      },
      "source": [
        "# A benchmark utility to time how long it takes\n",
        "# to iterate once over the entire dataset\n",
        "import time\n",
        "def time_one_epoch(ds):\n",
        "  start = time.time()\n",
        "  batches = 0\n",
        "  for i,(images,labels) in enumerate(ds):\n",
        "    batches += 1\n",
        "    if i % 10 == 0:\n",
        "      print('.', end='')\n",
        "  print()\n",
        "  end = time.time()\n",
        "  duration = end-start\n",
        "  print(\"Read {} batches\".format(batches))\n",
        "  print(\"{:0.2f} Batches/s\".format(batches/duration))\n",
        "  print(\"{:0.2f} Images/s\".format(BATCH_SIZE*batches/duration))\n",
        "  print(\"Total time: {}s\".format(duration))\n",
        "time_one_epoch(train_ds)"
      ],
      "execution_count": 21,
      "outputs": [
        {
          "output_type": "stream",
          "text": [
            "...\n",
            "Read 28 batches\n",
            "44.68 Batches/s\n",
            "1072.21 Images/s\n",
            "Total time: 0.6267437934875488s\n"
          ],
          "name": "stdout"
        }
      ]
    },
    {
      "cell_type": "code",
      "metadata": {
        "id": "vTAXtBGA5hsc",
        "outputId": "b7c5d60e-16a6-4f6c-ca0d-ee95ba2d905f",
        "colab": {
          "base_uri": "https://localhost:8080/"
        }
      },
      "source": [
        "for img, label in train_ds.take(2):\n",
        "  print(img.shape, label.shape) # notice it's returning batches of data now"
      ],
      "execution_count": null,
      "outputs": [
        {
          "output_type": "stream",
          "text": [
            "(24, 512, 512, 3) (24,)\n",
            "(24, 512, 512, 3) (24,)\n"
          ],
          "name": "stdout"
        }
      ]
    },
    {
      "cell_type": "markdown",
      "metadata": {
        "id": "wf520FCDI8AS"
      },
      "source": [
        "### base model\n"
      ]
    },
    {
      "cell_type": "code",
      "metadata": {
        "id": "EJD_66N4Gj-r"
      },
      "source": [
        "model = models.Sequential()\n",
        "model.add(layers.Conv2D(16, (3, 3), activation='relu', \n",
        "                        input_shape=(512, 512, 3)))\n",
        "model.add(layers.MaxPooling2D())\n",
        "model.add(layers.Flatten())\n",
        "model.add(layers.Dense(7, activation='softmax'))\n",
        "model.compile(optimizer='adam',\n",
        "              loss='sparse_categorical_crossentropy',\n",
        "              metrics=['accuracy'])\n",
        "model.fit(train_ds, validation_data=test_ds, epochs=5)"
      ],
      "execution_count": null,
      "outputs": []
    },
    {
      "cell_type": "markdown",
      "metadata": {
        "id": "eFzzVYcJBp-I"
      },
      "source": [
        "#### Transfer Learning"
      ]
    },
    {
      "cell_type": "code",
      "metadata": {
        "id": "luGAWZxYAlev"
      },
      "source": [
        "from tensorflow.keras.applications import ResNet50\n",
        "\n",
        "base_model = ResNet50(include_top = False, weights = 'imagenet', \n",
        "                         input_shape = (512, 512, 3))\n",
        "\n",
        "#base_model.trainable = True  \n",
        "\n",
        "for layer in base_model.layers[:100]:\n",
        "  layer.trainable = False"
      ],
      "execution_count": 16,
      "outputs": []
    },
    {
      "cell_type": "code",
      "metadata": {
        "id": "eudyyn9hHGHK",
        "outputId": "baef3066-dbb6-4bdb-eae7-206b6ad85ac1",
        "colab": {
          "base_uri": "https://localhost:8080/"
        }
      },
      "source": [
        "# A hack to show you the output shape of the model\n",
        "for image_batch, label_batch in train_ds.take(1):\n",
        "   pass\n",
        "  \n",
        "feature_batch = base_model(image_batch)\n",
        "print(feature_batch.shape)"
      ],
      "execution_count": 17,
      "outputs": [
        {
          "output_type": "stream",
          "text": [
            "(24, 16, 16, 2048)\n"
          ],
          "name": "stdout"
        }
      ]
    },
    {
      "cell_type": "code",
      "metadata": {
        "id": "7l0gBu3o-NLu"
      },
      "source": [
        "drop_out = tf.keras.layers.Dropout(.2, input_shape =(24, 16, 16,2048))\n",
        "global_average_layer = tf.keras.layers.GlobalAveragePooling2D()\n",
        "prediction_layer = tf.keras.layers.Dense(7, activation='softmax')"
      ],
      "execution_count": 18,
      "outputs": []
    },
    {
      "cell_type": "code",
      "metadata": {
        "id": "yXQPRAsF-UWk"
      },
      "source": [
        "# build a new model reusing the pretrained base\n",
        "model3 = tf.keras.Sequential([\n",
        "  base_model,\n",
        "  drop_out,\n",
        "  global_average_layer,\n",
        "  prediction_layer\n",
        "])"
      ],
      "execution_count": 19,
      "outputs": []
    },
    {
      "cell_type": "code",
      "metadata": {
        "id": "eNlGuxBmiQrc",
        "outputId": "3ea20924-bf55-48cf-f728-a004085d8a70",
        "colab": {
          "base_uri": "https://localhost:8080/"
        }
      },
      "source": [
        "model3.summary()"
      ],
      "execution_count": 68,
      "outputs": [
        {
          "output_type": "stream",
          "text": [
            "Model: \"sequential_14\"\n",
            "_________________________________________________________________\n",
            "Layer (type)                 Output Shape              Param #   \n",
            "=================================================================\n",
            "resnet50 (Functional)        (None, 16, 16, 2048)      23587712  \n",
            "_________________________________________________________________\n",
            "dropout_8 (Dropout)          (None, 16, 16, 2048)      0         \n",
            "_________________________________________________________________\n",
            "global_average_pooling2d_8 ( (None, 2048)              0         \n",
            "_________________________________________________________________\n",
            "dense_8 (Dense)              (None, 7)                 14343     \n",
            "=================================================================\n",
            "Total params: 23,602,055\n",
            "Trainable params: 19,467,271\n",
            "Non-trainable params: 4,134,784\n",
            "_________________________________________________________________\n"
          ],
          "name": "stdout"
        }
      ]
    },
    {
      "cell_type": "code",
      "metadata": {
        "id": "jLbVyA8RBlmX"
      },
      "source": [
        "model3.compile(optimizer='adam',\n",
        "              loss='sparse_categorical_crossentropy',\n",
        "              metrics=['accuracy'])\n",
        "# This function keeps the initial learning rate for the first ten epochs\n",
        "# and decreases it exponentially after that.\n",
        "def scheduler(epoch, lr):\n",
        "  if epoch < 10:\n",
        "    return lr\n",
        "  else:\n",
        "    return lr * tf.math.exp(-0.1)\n",
        "\n",
        "callback = tf.keras.callbacks.LearningRateScheduler(scheduler)"
      ],
      "execution_count": 20,
      "outputs": []
    },
    {
      "cell_type": "code",
      "metadata": {
        "id": "3SttUAZYBoVW",
        "outputId": "8e8d8487-80bd-4a83-8ce8-2bc59772307d",
        "colab": {
          "base_uri": "https://localhost:8080/"
        }
      },
      "source": [
        "#  no rescale  no augmentation ,trainable = true\n",
        "history3 = model3.fit(train_ds,\n",
        "      epochs=50,\n",
        "      callbacks=[callback],\n",
        "      validation_data = test_ds)"
      ],
      "execution_count": 21,
      "outputs": [
        {
          "output_type": "stream",
          "text": [
            "Epoch 1/50\n",
            "28/28 [==============================] - 27s 953ms/step - loss: 2.0382 - accuracy: 0.2470 - val_loss: 71.5533 - val_accuracy: 0.2432\n",
            "Epoch 2/50\n",
            "28/28 [==============================] - 22s 774ms/step - loss: 1.5819 - accuracy: 0.3328 - val_loss: 306.3428 - val_accuracy: 0.1486\n",
            "Epoch 3/50\n",
            "28/28 [==============================] - 22s 799ms/step - loss: 1.3148 - accuracy: 0.4458 - val_loss: 17.5806 - val_accuracy: 0.2703\n",
            "Epoch 4/50\n",
            "28/28 [==============================] - 22s 773ms/step - loss: 1.2365 - accuracy: 0.4729 - val_loss: 4.3095 - val_accuracy: 0.3559\n",
            "Epoch 5/50\n",
            "28/28 [==============================] - 21s 763ms/step - loss: 1.0950 - accuracy: 0.5648 - val_loss: 3.9814 - val_accuracy: 0.2838\n",
            "Epoch 6/50\n",
            "28/28 [==============================] - 22s 772ms/step - loss: 0.8780 - accuracy: 0.6401 - val_loss: 6.9610 - val_accuracy: 0.1802\n",
            "Epoch 7/50\n",
            "28/28 [==============================] - 22s 780ms/step - loss: 0.7204 - accuracy: 0.7244 - val_loss: 3.4174 - val_accuracy: 0.3153\n",
            "Epoch 8/50\n",
            "28/28 [==============================] - 22s 773ms/step - loss: 0.5334 - accuracy: 0.8042 - val_loss: 2.3989 - val_accuracy: 0.3423\n",
            "Epoch 9/50\n",
            "28/28 [==============================] - 22s 773ms/step - loss: 0.3759 - accuracy: 0.8780 - val_loss: 5.7286 - val_accuracy: 0.2793\n",
            "Epoch 10/50\n",
            "28/28 [==============================] - 22s 772ms/step - loss: 0.4350 - accuracy: 0.8479 - val_loss: 5.0227 - val_accuracy: 0.3198\n",
            "Epoch 11/50\n",
            "28/28 [==============================] - 22s 770ms/step - loss: 0.2792 - accuracy: 0.9036 - val_loss: 3.0652 - val_accuracy: 0.3378\n",
            "Epoch 12/50\n",
            "28/28 [==============================] - 22s 771ms/step - loss: 0.1143 - accuracy: 0.9744 - val_loss: 3.7670 - val_accuracy: 0.3559\n",
            "Epoch 13/50\n",
            "28/28 [==============================] - 22s 776ms/step - loss: 0.0747 - accuracy: 0.9729 - val_loss: 2.6299 - val_accuracy: 0.4640\n",
            "Epoch 14/50\n",
            "28/28 [==============================] - 22s 778ms/step - loss: 0.0403 - accuracy: 0.9955 - val_loss: 2.3461 - val_accuracy: 0.4595\n",
            "Epoch 15/50\n",
            "28/28 [==============================] - 22s 773ms/step - loss: 0.0110 - accuracy: 1.0000 - val_loss: 2.3129 - val_accuracy: 0.4414\n",
            "Epoch 16/50\n",
            "28/28 [==============================] - 22s 771ms/step - loss: 0.0052 - accuracy: 1.0000 - val_loss: 2.2953 - val_accuracy: 0.4685\n",
            "Epoch 17/50\n",
            "28/28 [==============================] - 22s 771ms/step - loss: 0.0034 - accuracy: 1.0000 - val_loss: 2.2569 - val_accuracy: 0.4910\n",
            "Epoch 18/50\n",
            "28/28 [==============================] - 22s 773ms/step - loss: 0.0029 - accuracy: 1.0000 - val_loss: 2.2822 - val_accuracy: 0.4865\n",
            "Epoch 19/50\n",
            "28/28 [==============================] - 22s 771ms/step - loss: 0.0013 - accuracy: 1.0000 - val_loss: 2.2968 - val_accuracy: 0.4910\n",
            "Epoch 20/50\n",
            "28/28 [==============================] - 22s 776ms/step - loss: 0.0044 - accuracy: 0.9985 - val_loss: 2.2887 - val_accuracy: 0.5045\n",
            "Epoch 21/50\n",
            "28/28 [==============================] - 22s 776ms/step - loss: 0.0068 - accuracy: 0.9985 - val_loss: 2.2269 - val_accuracy: 0.5000\n",
            "Epoch 22/50\n",
            "28/28 [==============================] - 22s 778ms/step - loss: 0.0026 - accuracy: 1.0000 - val_loss: 2.2949 - val_accuracy: 0.4955\n",
            "Epoch 23/50\n",
            "28/28 [==============================] - 22s 777ms/step - loss: 0.0024 - accuracy: 1.0000 - val_loss: 2.2909 - val_accuracy: 0.4955\n",
            "Epoch 24/50\n",
            "28/28 [==============================] - 22s 780ms/step - loss: 0.0021 - accuracy: 1.0000 - val_loss: 2.4912 - val_accuracy: 0.4865\n",
            "Epoch 25/50\n",
            "28/28 [==============================] - 22s 776ms/step - loss: 0.0016 - accuracy: 1.0000 - val_loss: 2.3866 - val_accuracy: 0.4820\n",
            "Epoch 26/50\n",
            "28/28 [==============================] - 22s 775ms/step - loss: 8.6201e-04 - accuracy: 1.0000 - val_loss: 2.3565 - val_accuracy: 0.4955\n",
            "Epoch 27/50\n",
            "28/28 [==============================] - 22s 777ms/step - loss: 0.0013 - accuracy: 1.0000 - val_loss: 2.3572 - val_accuracy: 0.4910\n",
            "Epoch 28/50\n",
            "28/28 [==============================] - 22s 777ms/step - loss: 6.4488e-04 - accuracy: 1.0000 - val_loss: 2.3579 - val_accuracy: 0.4955\n",
            "Epoch 29/50\n",
            "28/28 [==============================] - 22s 778ms/step - loss: 6.9261e-04 - accuracy: 1.0000 - val_loss: 2.3574 - val_accuracy: 0.5000\n",
            "Epoch 30/50\n",
            "28/28 [==============================] - 22s 778ms/step - loss: 7.9333e-04 - accuracy: 1.0000 - val_loss: 2.3529 - val_accuracy: 0.5000\n",
            "Epoch 31/50\n",
            "28/28 [==============================] - 22s 776ms/step - loss: 8.3892e-04 - accuracy: 1.0000 - val_loss: 2.3567 - val_accuracy: 0.5000\n",
            "Epoch 32/50\n",
            "28/28 [==============================] - 22s 774ms/step - loss: 5.5396e-04 - accuracy: 1.0000 - val_loss: 2.3590 - val_accuracy: 0.5135\n",
            "Epoch 33/50\n",
            "28/28 [==============================] - 22s 776ms/step - loss: 5.2000e-04 - accuracy: 1.0000 - val_loss: 2.3638 - val_accuracy: 0.5135\n",
            "Epoch 34/50\n",
            "28/28 [==============================] - 22s 777ms/step - loss: 6.0461e-04 - accuracy: 1.0000 - val_loss: 2.3689 - val_accuracy: 0.5135\n",
            "Epoch 35/50\n",
            "28/28 [==============================] - 22s 773ms/step - loss: 6.4427e-04 - accuracy: 1.0000 - val_loss: 2.3723 - val_accuracy: 0.5090\n",
            "Epoch 36/50\n",
            "28/28 [==============================] - 22s 775ms/step - loss: 7.2326e-04 - accuracy: 1.0000 - val_loss: 2.3806 - val_accuracy: 0.5045\n",
            "Epoch 37/50\n",
            "28/28 [==============================] - 22s 777ms/step - loss: 5.7502e-04 - accuracy: 1.0000 - val_loss: 2.3840 - val_accuracy: 0.5045\n",
            "Epoch 38/50\n",
            "28/28 [==============================] - 22s 779ms/step - loss: 4.0046e-04 - accuracy: 1.0000 - val_loss: 2.3847 - val_accuracy: 0.5090\n",
            "Epoch 39/50\n",
            "28/28 [==============================] - 22s 782ms/step - loss: 7.7777e-04 - accuracy: 1.0000 - val_loss: 2.3901 - val_accuracy: 0.5000\n",
            "Epoch 40/50\n",
            "28/28 [==============================] - 22s 777ms/step - loss: 6.0580e-04 - accuracy: 1.0000 - val_loss: 2.3925 - val_accuracy: 0.5000\n",
            "Epoch 41/50\n",
            "28/28 [==============================] - 22s 778ms/step - loss: 4.2346e-04 - accuracy: 1.0000 - val_loss: 2.3926 - val_accuracy: 0.5090\n",
            "Epoch 42/50\n",
            "28/28 [==============================] - 22s 775ms/step - loss: 5.2915e-04 - accuracy: 1.0000 - val_loss: 2.3941 - val_accuracy: 0.5135\n",
            "Epoch 43/50\n",
            "28/28 [==============================] - 22s 776ms/step - loss: 4.7929e-04 - accuracy: 1.0000 - val_loss: 2.3957 - val_accuracy: 0.5135\n",
            "Epoch 44/50\n",
            "28/28 [==============================] - 22s 777ms/step - loss: 5.1135e-04 - accuracy: 1.0000 - val_loss: 2.3990 - val_accuracy: 0.5090\n",
            "Epoch 45/50\n",
            "28/28 [==============================] - 22s 779ms/step - loss: 4.8122e-04 - accuracy: 1.0000 - val_loss: 2.3995 - val_accuracy: 0.5090\n",
            "Epoch 46/50\n",
            "28/28 [==============================] - 22s 776ms/step - loss: 5.2083e-04 - accuracy: 1.0000 - val_loss: 2.4009 - val_accuracy: 0.5135\n",
            "Epoch 47/50\n",
            "28/28 [==============================] - 22s 777ms/step - loss: 5.0841e-04 - accuracy: 1.0000 - val_loss: 2.4038 - val_accuracy: 0.5135\n",
            "Epoch 48/50\n",
            "28/28 [==============================] - 22s 780ms/step - loss: 3.8417e-04 - accuracy: 1.0000 - val_loss: 2.4047 - val_accuracy: 0.5090\n",
            "Epoch 49/50\n",
            "28/28 [==============================] - 22s 775ms/step - loss: 4.1217e-04 - accuracy: 1.0000 - val_loss: 2.4045 - val_accuracy: 0.5135\n",
            "Epoch 50/50\n",
            "28/28 [==============================] - 22s 780ms/step - loss: 5.4059e-04 - accuracy: 1.0000 - val_loss: 2.4056 - val_accuracy: 0.5135\n"
          ],
          "name": "stdout"
        }
      ]
    },
    {
      "cell_type": "code",
      "metadata": {
        "id": "1yhC1PjMK22q",
        "outputId": "0b883a2f-fcd3-4581-8707-4fe42fc17b48",
        "colab": {
          "base_uri": "https://localhost:8080/",
          "height": 573
        }
      },
      "source": [
        "plot(history3)"
      ],
      "execution_count": 45,
      "outputs": [
        {
          "output_type": "display_data",
          "data": {
            "image/png": "[encoded data removed]",
            "text/plain": [
              "<Figure size 432x288 with 1 Axes>"
            ]
          },
          "metadata": {
            "tags": [],
            "needs_background": "light"
          }
        },
        {
          "output_type": "display_data",
          "data": {
            "image/png": "[encoded data removed]",
            "text/plain": [
              "<Figure size 432x288 with 1 Axes>"
            ]
          },
          "metadata": {
            "tags": [],
            "needs_background": "light"
          }
        }
      ]
    },
    {
      "cell_type": "code",
      "metadata": {
        "id": "Q0dADPI4-uO0"
      },
      "source": [
        "def plot(history):\n",
        "  \n",
        "    plt.title('Training and validation accuracy')\n",
        "    plt.plot(history.history['accuracy'], label='accuracy')\n",
        "    plt.plot(history.history['val_accuracy'], label = 'val_accuracy')\n",
        "    plt.xlabel('Epoch')\n",
        "    plt.ylabel('Accuracy')\n",
        "    plt.legend(loc='lower right')\n",
        "    plt.show()\n",
        "\n",
        "\n",
        "    plt.figure()\n",
        "    plt.title('Training and validation loss')\n",
        "    plt.plot(history.history['loss'][7:], label='loss')\n",
        "    plt.plot(history.history['val_loss'][7:], label = 'val_loss')\n",
        "    plt.xlabel('Epoch')\n",
        "    plt.ylabel('Loss')\n",
        "    plt.legend(loc='lower right')\n",
        "    plt.show()"
      ],
      "execution_count": 47,
      "outputs": []
    },
    {
      "cell_type": "code",
      "metadata": {
        "id": "EZxFsmPvGrM-",
        "outputId": "a7596dca-acdb-4c4d-a88f-ff203bf97d59",
        "colab": {
          "base_uri": "https://localhost:8080/"
        }
      },
      "source": [
        "# build a new model reusing the pretrained base\n",
        "from tensorflow.keras.applications import ResNet50\n",
        "\n",
        "base_model = ResNet50(include_top = False, weights = 'imagenet', \n",
        "                         input_shape = (512, 512, 3))\n",
        "\n",
        "\n",
        "for layer in base_model.layers[:100]:\n",
        "  layer.trainable = False\n",
        "\n",
        "drop_out = tf.keras.layers.Dropout(.2, input_shape =(24, 16, 16,2048))\n",
        "global_average_layer = tf.keras.layers.GlobalAveragePooling2D()\n",
        "prediction_layer = tf.keras.layers.Dense(7, activation='softmax')\n",
        "\n",
        "\n",
        "model2 = tf.keras.Sequential([\n",
        "  base_model,\n",
        "  drop_out,\n",
        "  global_average_layer,\n",
        "  prediction_layer\n",
        "])\n",
        "\n",
        "\n",
        "model2.compile(optimizer= \"Adam\",\n",
        "              loss='sparse_categorical_crossentropy',\n",
        "              metrics=['accuracy'])\n",
        "# This function keeps the initial learning rate for the first ten epochs\n",
        "# and decreases it exponentially after that.\n",
        "\n",
        "def scheduler(epoch, lr):\n",
        "  if epoch < 10:\n",
        "    return lr\n",
        "  else:\n",
        "    return lr * tf.math.exp(-0.1)\n",
        "\n",
        "callback = tf.keras.callbacks.LearningRateScheduler(scheduler)\n",
        "\n",
        "\n",
        "history2 = model2.fit(train_ds,\n",
        "      epochs=50,\n",
        "      callbacks = [callback],\n",
        "      validation_data = test_ds)"
      ],
      "execution_count": 14,
      "outputs": [
        {
          "output_type": "stream",
          "text": [
            "Downloading data from https://storage.googleapis.com/tensorflow/keras-applications/resnet/resnet50_weights_tf_dim_ordering_tf_kernels_notop.h5\n",
            "94773248/94765736 [==============================] - 0s 0us/step\n",
            "Epoch 1/50\n",
            "28/28 [==============================] - 122s 4s/step - loss: 2.0088 - accuracy: 0.2440 - val_loss: 4647.3149 - val_accuracy: 0.1577\n",
            "Epoch 2/50\n",
            "28/28 [==============================] - 21s 756ms/step - loss: 1.5591 - accuracy: 0.3343 - val_loss: 1304.5890 - val_accuracy: 0.1577\n",
            "Epoch 3/50\n",
            "28/28 [==============================] - 20s 722ms/step - loss: 1.4570 - accuracy: 0.3855 - val_loss: 79.8538 - val_accuracy: 0.1216\n",
            "Epoch 4/50\n",
            "28/28 [==============================] - 20s 714ms/step - loss: 1.3272 - accuracy: 0.4563 - val_loss: 60.9877 - val_accuracy: 0.1982\n",
            "Epoch 5/50\n",
            "28/28 [==============================] - 20s 729ms/step - loss: 1.2280 - accuracy: 0.4789 - val_loss: 5.3737 - val_accuracy: 0.3063\n",
            "Epoch 6/50\n",
            "28/28 [==============================] - 21s 738ms/step - loss: 1.1293 - accuracy: 0.5437 - val_loss: 9.1930 - val_accuracy: 0.2252\n",
            "Epoch 7/50\n",
            "28/28 [==============================] - 20s 731ms/step - loss: 1.0953 - accuracy: 0.5527 - val_loss: 3.5748 - val_accuracy: 0.2883\n",
            "Epoch 8/50\n",
            "28/28 [==============================] - 20s 722ms/step - loss: 0.9944 - accuracy: 0.6160 - val_loss: 2.9881 - val_accuracy: 0.3423\n",
            "Epoch 9/50\n",
            "28/28 [==============================] - 20s 730ms/step - loss: 0.8544 - accuracy: 0.6566 - val_loss: 1.5265 - val_accuracy: 0.4234\n",
            "Epoch 10/50\n",
            "28/28 [==============================] - 20s 731ms/step - loss: 0.8801 - accuracy: 0.6657 - val_loss: 4.1661 - val_accuracy: 0.3423\n",
            "Epoch 11/50\n",
            "28/28 [==============================] - 20s 728ms/step - loss: 0.5917 - accuracy: 0.7605 - val_loss: 2.6591 - val_accuracy: 0.3694\n",
            "Epoch 12/50\n",
            "28/28 [==============================] - 20s 728ms/step - loss: 0.5164 - accuracy: 0.8027 - val_loss: 3.9775 - val_accuracy: 0.2883\n",
            "Epoch 13/50\n",
            "28/28 [==============================] - 20s 729ms/step - loss: 0.2978 - accuracy: 0.9081 - val_loss: 2.4192 - val_accuracy: 0.3739\n",
            "Epoch 14/50\n",
            "28/28 [==============================] - 20s 728ms/step - loss: 0.1931 - accuracy: 0.9473 - val_loss: 3.0261 - val_accuracy: 0.3739\n",
            "Epoch 15/50\n",
            "28/28 [==============================] - 20s 729ms/step - loss: 0.1588 - accuracy: 0.9608 - val_loss: 2.1194 - val_accuracy: 0.4054\n",
            "Epoch 16/50\n",
            "28/28 [==============================] - 20s 730ms/step - loss: 0.1027 - accuracy: 0.9759 - val_loss: 2.3214 - val_accuracy: 0.4009\n",
            "Epoch 17/50\n",
            "28/28 [==============================] - 20s 730ms/step - loss: 0.0609 - accuracy: 0.9864 - val_loss: 2.5628 - val_accuracy: 0.4144\n",
            "Epoch 18/50\n",
            "28/28 [==============================] - 20s 731ms/step - loss: 0.0691 - accuracy: 0.9804 - val_loss: 2.8551 - val_accuracy: 0.4054\n",
            "Epoch 19/50\n",
            "28/28 [==============================] - 20s 731ms/step - loss: 0.0318 - accuracy: 0.9955 - val_loss: 2.8216 - val_accuracy: 0.3874\n",
            "Epoch 20/50\n",
            "28/28 [==============================] - 20s 730ms/step - loss: 0.0162 - accuracy: 0.9985 - val_loss: 2.2733 - val_accuracy: 0.4369\n",
            "Epoch 21/50\n",
            "28/28 [==============================] - 20s 731ms/step - loss: 0.0088 - accuracy: 0.9985 - val_loss: 2.3283 - val_accuracy: 0.4414\n",
            "Epoch 22/50\n",
            "28/28 [==============================] - 20s 731ms/step - loss: 0.0062 - accuracy: 1.0000 - val_loss: 2.3961 - val_accuracy: 0.4369\n",
            "Epoch 23/50\n",
            "28/28 [==============================] - 20s 730ms/step - loss: 0.0054 - accuracy: 1.0000 - val_loss: 2.3834 - val_accuracy: 0.4324\n",
            "Epoch 24/50\n",
            "28/28 [==============================] - 20s 730ms/step - loss: 0.0074 - accuracy: 0.9985 - val_loss: 2.4504 - val_accuracy: 0.4550\n",
            "Epoch 25/50\n",
            "28/28 [==============================] - 20s 730ms/step - loss: 0.0050 - accuracy: 1.0000 - val_loss: 2.4049 - val_accuracy: 0.4640\n",
            "Epoch 26/50\n",
            "28/28 [==============================] - 20s 729ms/step - loss: 0.0044 - accuracy: 1.0000 - val_loss: 2.5029 - val_accuracy: 0.4414\n",
            "Epoch 27/50\n",
            "28/28 [==============================] - 20s 729ms/step - loss: 0.0070 - accuracy: 1.0000 - val_loss: 2.3815 - val_accuracy: 0.4505\n",
            "Epoch 28/50\n",
            "28/28 [==============================] - 20s 731ms/step - loss: 0.0022 - accuracy: 1.0000 - val_loss: 2.4340 - val_accuracy: 0.4550\n",
            "Epoch 29/50\n",
            "28/28 [==============================] - 20s 730ms/step - loss: 0.0025 - accuracy: 1.0000 - val_loss: 2.5007 - val_accuracy: 0.4505\n",
            "Epoch 30/50\n",
            "28/28 [==============================] - 20s 730ms/step - loss: 0.0024 - accuracy: 1.0000 - val_loss: 2.5416 - val_accuracy: 0.4459\n",
            "Epoch 31/50\n",
            "28/28 [==============================] - 20s 730ms/step - loss: 0.0024 - accuracy: 1.0000 - val_loss: 2.5781 - val_accuracy: 0.4369\n",
            "Epoch 32/50\n",
            "28/28 [==============================] - 20s 731ms/step - loss: 0.0018 - accuracy: 1.0000 - val_loss: 2.5995 - val_accuracy: 0.4414\n",
            "Epoch 33/50\n",
            "28/28 [==============================] - 20s 730ms/step - loss: 0.0020 - accuracy: 1.0000 - val_loss: 2.6130 - val_accuracy: 0.4505\n",
            "Epoch 34/50\n",
            "28/28 [==============================] - 20s 731ms/step - loss: 0.0010 - accuracy: 1.0000 - val_loss: 2.6306 - val_accuracy: 0.4505\n",
            "Epoch 35/50\n",
            "28/28 [==============================] - 20s 730ms/step - loss: 0.0011 - accuracy: 1.0000 - val_loss: 2.6500 - val_accuracy: 0.4505\n",
            "Epoch 36/50\n",
            "28/28 [==============================] - 20s 730ms/step - loss: 8.8613e-04 - accuracy: 1.0000 - val_loss: 2.6621 - val_accuracy: 0.4505\n",
            "Epoch 37/50\n",
            "28/28 [==============================] - 20s 731ms/step - loss: 9.0510e-04 - accuracy: 1.0000 - val_loss: 2.6797 - val_accuracy: 0.4505\n",
            "Epoch 38/50\n",
            "28/28 [==============================] - 20s 730ms/step - loss: 9.9234e-04 - accuracy: 1.0000 - val_loss: 2.6913 - val_accuracy: 0.4505\n",
            "Epoch 39/50\n",
            "28/28 [==============================] - 20s 730ms/step - loss: 0.0015 - accuracy: 1.0000 - val_loss: 2.7023 - val_accuracy: 0.4414\n",
            "Epoch 40/50\n",
            "28/28 [==============================] - 20s 730ms/step - loss: 9.6136e-04 - accuracy: 1.0000 - val_loss: 2.7068 - val_accuracy: 0.4459\n",
            "Epoch 41/50\n",
            "28/28 [==============================] - 20s 731ms/step - loss: 8.4946e-04 - accuracy: 1.0000 - val_loss: 2.7153 - val_accuracy: 0.4459\n",
            "Epoch 42/50\n",
            "28/28 [==============================] - 20s 730ms/step - loss: 0.0011 - accuracy: 1.0000 - val_loss: 2.7264 - val_accuracy: 0.4459\n",
            "Epoch 43/50\n",
            "28/28 [==============================] - 20s 731ms/step - loss: 0.0026 - accuracy: 1.0000 - val_loss: 2.7233 - val_accuracy: 0.4505\n",
            "Epoch 44/50\n",
            "28/28 [==============================] - 20s 730ms/step - loss: 0.0014 - accuracy: 1.0000 - val_loss: 2.7241 - val_accuracy: 0.4459\n",
            "Epoch 45/50\n",
            "28/28 [==============================] - 20s 731ms/step - loss: 7.8866e-04 - accuracy: 1.0000 - val_loss: 2.7322 - val_accuracy: 0.4459\n",
            "Epoch 46/50\n",
            "28/28 [==============================] - 20s 728ms/step - loss: 7.0772e-04 - accuracy: 1.0000 - val_loss: 2.7403 - val_accuracy: 0.4505\n",
            "Epoch 47/50\n",
            "28/28 [==============================] - 20s 728ms/step - loss: 0.0011 - accuracy: 1.0000 - val_loss: 2.7464 - val_accuracy: 0.4459\n",
            "Epoch 48/50\n",
            "28/28 [==============================] - 20s 728ms/step - loss: 0.0012 - accuracy: 1.0000 - val_loss: 2.7451 - val_accuracy: 0.4459\n",
            "Epoch 49/50\n",
            "28/28 [==============================] - 20s 728ms/step - loss: 9.1889e-04 - accuracy: 1.0000 - val_loss: 2.7522 - val_accuracy: 0.4459\n",
            "Epoch 50/50\n",
            "28/28 [==============================] - 20s 728ms/step - loss: 5.8817e-04 - accuracy: 1.0000 - val_loss: 2.7563 - val_accuracy: 0.4459\n"
          ],
          "name": "stdout"
        }
      ]
    }
  ]
}